{
 "cells": [
  {
   "cell_type": "markdown",
   "id": "815f7539",
   "metadata": {},
   "source": [
    "# Preparar os dados"
   ]
  },
  {
   "cell_type": "code",
   "execution_count": 1,
   "id": "e7020f89",
   "metadata": {},
   "outputs": [],
   "source": [
    "# baixei os dados referentes aos 12 meses de 2021.\n",
    "# como os dados de cada mês vieram um em cada arquivo .csv é necessário juntá-los"
   ]
  },
  {
   "cell_type": "code",
   "execution_count": 2,
   "id": "966d182f",
   "metadata": {},
   "outputs": [],
   "source": [
    "import pandas as pd\n",
    "import glob\n",
    "import os\n",
    "import numpy as np\n",
    "import datetime as dt\n",
    "import matplotlib.pyplot as plt\n",
    "\n",
    "%matplotlib inline"
   ]
  },
  {
   "cell_type": "code",
   "execution_count": 3,
   "id": "5f75cf57",
   "metadata": {},
   "outputs": [],
   "source": [
    "files = os.path.join(\"F:\\\\Aulas\\\\Análise de dados Google\\\\Capstone\\dados\",\"2021*.csv\")\n",
    "files = glob.glob(files)\n",
    "\n",
    "df = pd.concat(map(pd.read_csv, files), ignore_index = True)"
   ]
  },
  {
   "cell_type": "code",
   "execution_count": 4,
   "id": "d575bcb4",
   "metadata": {},
   "outputs": [],
   "source": [
    "# algumas informações sobre os dados"
   ]
  },
  {
   "cell_type": "code",
   "execution_count": 5,
   "id": "9cd4a476",
   "metadata": {},
   "outputs": [
    {
     "data": {
      "text/plain": [
       "(5595063, 13)"
      ]
     },
     "execution_count": 5,
     "metadata": {},
     "output_type": "execute_result"
    }
   ],
   "source": [
    "df.shape"
   ]
  },
  {
   "cell_type": "code",
   "execution_count": 6,
   "id": "2070e806",
   "metadata": {},
   "outputs": [
    {
     "data": {
      "text/html": [
       "<div>\n",
       "<style scoped>\n",
       "    .dataframe tbody tr th:only-of-type {\n",
       "        vertical-align: middle;\n",
       "    }\n",
       "\n",
       "    .dataframe tbody tr th {\n",
       "        vertical-align: top;\n",
       "    }\n",
       "\n",
       "    .dataframe thead th {\n",
       "        text-align: right;\n",
       "    }\n",
       "</style>\n",
       "<table border=\"1\" class=\"dataframe\">\n",
       "  <thead>\n",
       "    <tr style=\"text-align: right;\">\n",
       "      <th></th>\n",
       "      <th>ride_id</th>\n",
       "      <th>rideable_type</th>\n",
       "      <th>started_at</th>\n",
       "      <th>ended_at</th>\n",
       "      <th>start_station_name</th>\n",
       "      <th>start_station_id</th>\n",
       "      <th>end_station_name</th>\n",
       "      <th>end_station_id</th>\n",
       "      <th>start_lat</th>\n",
       "      <th>start_lng</th>\n",
       "      <th>end_lat</th>\n",
       "      <th>end_lng</th>\n",
       "      <th>member_casual</th>\n",
       "    </tr>\n",
       "  </thead>\n",
       "  <tbody>\n",
       "    <tr>\n",
       "      <th>0</th>\n",
       "      <td>E19E6F1B8D4C42ED</td>\n",
       "      <td>electric_bike</td>\n",
       "      <td>2021-01-23 16:14:19</td>\n",
       "      <td>2021-01-23 16:24:44</td>\n",
       "      <td>California Ave &amp; Cortez St</td>\n",
       "      <td>17660</td>\n",
       "      <td>NaN</td>\n",
       "      <td>NaN</td>\n",
       "      <td>41.900341</td>\n",
       "      <td>-87.696743</td>\n",
       "      <td>41.89</td>\n",
       "      <td>-87.72</td>\n",
       "      <td>member</td>\n",
       "    </tr>\n",
       "    <tr>\n",
       "      <th>1</th>\n",
       "      <td>DC88F20C2C55F27F</td>\n",
       "      <td>electric_bike</td>\n",
       "      <td>2021-01-27 18:43:08</td>\n",
       "      <td>2021-01-27 18:47:12</td>\n",
       "      <td>California Ave &amp; Cortez St</td>\n",
       "      <td>17660</td>\n",
       "      <td>NaN</td>\n",
       "      <td>NaN</td>\n",
       "      <td>41.900333</td>\n",
       "      <td>-87.696707</td>\n",
       "      <td>41.90</td>\n",
       "      <td>-87.69</td>\n",
       "      <td>member</td>\n",
       "    </tr>\n",
       "    <tr>\n",
       "      <th>2</th>\n",
       "      <td>EC45C94683FE3F27</td>\n",
       "      <td>electric_bike</td>\n",
       "      <td>2021-01-21 22:35:54</td>\n",
       "      <td>2021-01-21 22:37:14</td>\n",
       "      <td>California Ave &amp; Cortez St</td>\n",
       "      <td>17660</td>\n",
       "      <td>NaN</td>\n",
       "      <td>NaN</td>\n",
       "      <td>41.900313</td>\n",
       "      <td>-87.696643</td>\n",
       "      <td>41.90</td>\n",
       "      <td>-87.70</td>\n",
       "      <td>member</td>\n",
       "    </tr>\n",
       "    <tr>\n",
       "      <th>3</th>\n",
       "      <td>4FA453A75AE377DB</td>\n",
       "      <td>electric_bike</td>\n",
       "      <td>2021-01-07 13:31:13</td>\n",
       "      <td>2021-01-07 13:42:55</td>\n",
       "      <td>California Ave &amp; Cortez St</td>\n",
       "      <td>17660</td>\n",
       "      <td>NaN</td>\n",
       "      <td>NaN</td>\n",
       "      <td>41.900399</td>\n",
       "      <td>-87.696662</td>\n",
       "      <td>41.92</td>\n",
       "      <td>-87.69</td>\n",
       "      <td>member</td>\n",
       "    </tr>\n",
       "    <tr>\n",
       "      <th>4</th>\n",
       "      <td>BE5E8EB4E7263A0B</td>\n",
       "      <td>electric_bike</td>\n",
       "      <td>2021-01-23 02:24:02</td>\n",
       "      <td>2021-01-23 02:24:45</td>\n",
       "      <td>California Ave &amp; Cortez St</td>\n",
       "      <td>17660</td>\n",
       "      <td>NaN</td>\n",
       "      <td>NaN</td>\n",
       "      <td>41.900326</td>\n",
       "      <td>-87.696697</td>\n",
       "      <td>41.90</td>\n",
       "      <td>-87.70</td>\n",
       "      <td>casual</td>\n",
       "    </tr>\n",
       "  </tbody>\n",
       "</table>\n",
       "</div>"
      ],
      "text/plain": [
       "            ride_id  rideable_type           started_at             ended_at  \\\n",
       "0  E19E6F1B8D4C42ED  electric_bike  2021-01-23 16:14:19  2021-01-23 16:24:44   \n",
       "1  DC88F20C2C55F27F  electric_bike  2021-01-27 18:43:08  2021-01-27 18:47:12   \n",
       "2  EC45C94683FE3F27  electric_bike  2021-01-21 22:35:54  2021-01-21 22:37:14   \n",
       "3  4FA453A75AE377DB  electric_bike  2021-01-07 13:31:13  2021-01-07 13:42:55   \n",
       "4  BE5E8EB4E7263A0B  electric_bike  2021-01-23 02:24:02  2021-01-23 02:24:45   \n",
       "\n",
       "           start_station_name start_station_id end_station_name  \\\n",
       "0  California Ave & Cortez St            17660              NaN   \n",
       "1  California Ave & Cortez St            17660              NaN   \n",
       "2  California Ave & Cortez St            17660              NaN   \n",
       "3  California Ave & Cortez St            17660              NaN   \n",
       "4  California Ave & Cortez St            17660              NaN   \n",
       "\n",
       "  end_station_id  start_lat  start_lng  end_lat  end_lng member_casual  \n",
       "0            NaN  41.900341 -87.696743    41.89   -87.72        member  \n",
       "1            NaN  41.900333 -87.696707    41.90   -87.69        member  \n",
       "2            NaN  41.900313 -87.696643    41.90   -87.70        member  \n",
       "3            NaN  41.900399 -87.696662    41.92   -87.69        member  \n",
       "4            NaN  41.900326 -87.696697    41.90   -87.70        casual  "
      ]
     },
     "execution_count": 6,
     "metadata": {},
     "output_type": "execute_result"
    }
   ],
   "source": [
    "df.head()"
   ]
  },
  {
   "cell_type": "code",
   "execution_count": 7,
   "id": "e58906f3",
   "metadata": {},
   "outputs": [
    {
     "name": "stdout",
     "output_type": "stream",
     "text": [
      "<class 'pandas.core.frame.DataFrame'>\n",
      "RangeIndex: 5595063 entries, 0 to 5595062\n",
      "Data columns (total 13 columns):\n",
      " #   Column              Dtype  \n",
      "---  ------              -----  \n",
      " 0   ride_id             object \n",
      " 1   rideable_type       object \n",
      " 2   started_at          object \n",
      " 3   ended_at            object \n",
      " 4   start_station_name  object \n",
      " 5   start_station_id    object \n",
      " 6   end_station_name    object \n",
      " 7   end_station_id      object \n",
      " 8   start_lat           float64\n",
      " 9   start_lng           float64\n",
      " 10  end_lat             float64\n",
      " 11  end_lng             float64\n",
      " 12  member_casual       object \n",
      "dtypes: float64(4), object(9)\n",
      "memory usage: 554.9+ MB\n"
     ]
    }
   ],
   "source": [
    "df.info()"
   ]
  },
  {
   "cell_type": "code",
   "execution_count": 8,
   "id": "1a0e9c49",
   "metadata": {
    "scrolled": true
   },
   "outputs": [
    {
     "data": {
      "text/html": [
       "<div>\n",
       "<style scoped>\n",
       "    .dataframe tbody tr th:only-of-type {\n",
       "        vertical-align: middle;\n",
       "    }\n",
       "\n",
       "    .dataframe tbody tr th {\n",
       "        vertical-align: top;\n",
       "    }\n",
       "\n",
       "    .dataframe thead th {\n",
       "        text-align: right;\n",
       "    }\n",
       "</style>\n",
       "<table border=\"1\" class=\"dataframe\">\n",
       "  <thead>\n",
       "    <tr style=\"text-align: right;\">\n",
       "      <th></th>\n",
       "      <th>start_lat</th>\n",
       "      <th>start_lng</th>\n",
       "      <th>end_lat</th>\n",
       "      <th>end_lng</th>\n",
       "    </tr>\n",
       "  </thead>\n",
       "  <tbody>\n",
       "    <tr>\n",
       "      <th>count</th>\n",
       "      <td>5.595063e+06</td>\n",
       "      <td>5.595063e+06</td>\n",
       "      <td>5.590292e+06</td>\n",
       "      <td>5.590292e+06</td>\n",
       "    </tr>\n",
       "    <tr>\n",
       "      <th>mean</th>\n",
       "      <td>4.190107e+01</td>\n",
       "      <td>-8.764605e+01</td>\n",
       "      <td>4.190134e+01</td>\n",
       "      <td>-8.764626e+01</td>\n",
       "    </tr>\n",
       "    <tr>\n",
       "      <th>std</th>\n",
       "      <td>4.608635e-02</td>\n",
       "      <td>2.872111e-02</td>\n",
       "      <td>4.618916e-02</td>\n",
       "      <td>2.889959e-02</td>\n",
       "    </tr>\n",
       "    <tr>\n",
       "      <th>min</th>\n",
       "      <td>4.164000e+01</td>\n",
       "      <td>-8.784000e+01</td>\n",
       "      <td>4.139000e+01</td>\n",
       "      <td>-8.897000e+01</td>\n",
       "    </tr>\n",
       "    <tr>\n",
       "      <th>25%</th>\n",
       "      <td>4.188155e+01</td>\n",
       "      <td>-8.766000e+01</td>\n",
       "      <td>4.188184e+01</td>\n",
       "      <td>-8.766000e+01</td>\n",
       "    </tr>\n",
       "    <tr>\n",
       "      <th>50%</th>\n",
       "      <td>4.189897e+01</td>\n",
       "      <td>-8.764182e+01</td>\n",
       "      <td>4.189964e+01</td>\n",
       "      <td>-8.764275e+01</td>\n",
       "    </tr>\n",
       "    <tr>\n",
       "      <th>75%</th>\n",
       "      <td>4.192914e+01</td>\n",
       "      <td>-8.762773e+01</td>\n",
       "      <td>4.192920e+01</td>\n",
       "      <td>-8.762775e+01</td>\n",
       "    </tr>\n",
       "    <tr>\n",
       "      <th>max</th>\n",
       "      <td>4.207000e+01</td>\n",
       "      <td>-8.752000e+01</td>\n",
       "      <td>4.216812e+01</td>\n",
       "      <td>-8.749000e+01</td>\n",
       "    </tr>\n",
       "  </tbody>\n",
       "</table>\n",
       "</div>"
      ],
      "text/plain": [
       "          start_lat     start_lng       end_lat       end_lng\n",
       "count  5.595063e+06  5.595063e+06  5.590292e+06  5.590292e+06\n",
       "mean   4.190107e+01 -8.764605e+01  4.190134e+01 -8.764626e+01\n",
       "std    4.608635e-02  2.872111e-02  4.618916e-02  2.889959e-02\n",
       "min    4.164000e+01 -8.784000e+01  4.139000e+01 -8.897000e+01\n",
       "25%    4.188155e+01 -8.766000e+01  4.188184e+01 -8.766000e+01\n",
       "50%    4.189897e+01 -8.764182e+01  4.189964e+01 -8.764275e+01\n",
       "75%    4.192914e+01 -8.762773e+01  4.192920e+01 -8.762775e+01\n",
       "max    4.207000e+01 -8.752000e+01  4.216812e+01 -8.749000e+01"
      ]
     },
     "execution_count": 8,
     "metadata": {},
     "output_type": "execute_result"
    }
   ],
   "source": [
    "df.describe()"
   ]
  },
  {
   "cell_type": "code",
   "execution_count": 9,
   "id": "2e966dc3",
   "metadata": {
    "scrolled": false
   },
   "outputs": [
    {
     "data": {
      "text/plain": [
       "ride_id                object\n",
       "rideable_type          object\n",
       "started_at             object\n",
       "ended_at               object\n",
       "start_station_name     object\n",
       "start_station_id       object\n",
       "end_station_name       object\n",
       "end_station_id         object\n",
       "start_lat             float64\n",
       "start_lng             float64\n",
       "end_lat               float64\n",
       "end_lng               float64\n",
       "member_casual          object\n",
       "dtype: object"
      ]
     },
     "execution_count": 9,
     "metadata": {},
     "output_type": "execute_result"
    }
   ],
   "source": [
    "df.dtypes"
   ]
  },
  {
   "cell_type": "markdown",
   "id": "d692b323",
   "metadata": {},
   "source": [
    "# Processar os dados"
   ]
  },
  {
   "cell_type": "code",
   "execution_count": 10,
   "id": "cac0195c",
   "metadata": {},
   "outputs": [],
   "source": [
    "# tenho que transformar os dados de data e tudo relacionado às estações, menos o nome delas.\n",
    "# tenho que deletar as linhas que possuem valor nulo, pois algumas não possuem end_station_id \n",
    "# e end_station_name por exemplo"
   ]
  },
  {
   "cell_type": "code",
   "execution_count": 11,
   "id": "b733174d",
   "metadata": {},
   "outputs": [],
   "source": [
    "# retirando as linhas que possuem o end_station_name ou end_station_id com valores nulos\n",
    "# não sei se isso afetaria alguma análise posterior mas é melhor evitar problemas\n",
    "\n",
    "df1 = df[df['end_station_id'].notna()|df['end_station_name'].notna()]"
   ]
  },
  {
   "cell_type": "code",
   "execution_count": 12,
   "id": "238d6c11",
   "metadata": {
    "scrolled": true
   },
   "outputs": [
    {
     "name": "stderr",
     "output_type": "stream",
     "text": [
      "C:\\Users\\alanf\\AppData\\Local\\Temp/ipykernel_2632/4008155176.py:3: SettingWithCopyWarning: \n",
      "A value is trying to be set on a copy of a slice from a DataFrame.\n",
      "Try using .loc[row_indexer,col_indexer] = value instead\n",
      "\n",
      "See the caveats in the documentation: https://pandas.pydata.org/pandas-docs/stable/user_guide/indexing.html#returning-a-view-versus-a-copy\n",
      "  df1['started_at'] = pd.to_datetime(df['started_at'])\n",
      "C:\\Users\\alanf\\AppData\\Local\\Temp/ipykernel_2632/4008155176.py:4: SettingWithCopyWarning: \n",
      "A value is trying to be set on a copy of a slice from a DataFrame.\n",
      "Try using .loc[row_indexer,col_indexer] = value instead\n",
      "\n",
      "See the caveats in the documentation: https://pandas.pydata.org/pandas-docs/stable/user_guide/indexing.html#returning-a-view-versus-a-copy\n",
      "  df1['ended_at'] = pd.to_datetime(df['ended_at'])\n"
     ]
    }
   ],
   "source": [
    "#convertendo as colunas com dados de data para o formato apropriado\n",
    "\n",
    "df1['started_at'] = pd.to_datetime(df['started_at'])\n",
    "df1['ended_at'] = pd.to_datetime(df['ended_at'])"
   ]
  },
  {
   "cell_type": "code",
   "execution_count": 13,
   "id": "e994f121",
   "metadata": {
    "scrolled": true
   },
   "outputs": [
    {
     "data": {
      "text/plain": [
       "ride_id                       object\n",
       "rideable_type                 object\n",
       "started_at            datetime64[ns]\n",
       "ended_at              datetime64[ns]\n",
       "start_station_name            object\n",
       "start_station_id              object\n",
       "end_station_name              object\n",
       "end_station_id                object\n",
       "start_lat                    float64\n",
       "start_lng                    float64\n",
       "end_lat                      float64\n",
       "end_lng                      float64\n",
       "member_casual                 object\n",
       "dtype: object"
      ]
     },
     "execution_count": 13,
     "metadata": {},
     "output_type": "execute_result"
    }
   ],
   "source": [
    "df1.dtypes"
   ]
  },
  {
   "cell_type": "code",
   "execution_count": 14,
   "id": "833382c9",
   "metadata": {
    "scrolled": true
   },
   "outputs": [
    {
     "data": {
      "text/plain": [
       "count    4855893.0\n",
       "mean          16.0\n",
       "std            0.0\n",
       "min           16.0\n",
       "25%           16.0\n",
       "50%           16.0\n",
       "75%           16.0\n",
       "max           16.0\n",
       "Name: ride_id, dtype: float64"
      ]
     },
     "execution_count": 14,
     "metadata": {},
     "output_type": "execute_result"
    }
   ],
   "source": [
    "df1['ride_id'].str.len().describe() \n",
    "#checando se não tem nenhum id incorreto com um valor de caracteres diferente de 16\n",
    "#como o std = 0 e todos os outros parâmetros assumem valor = 16 então tá tudo correto"
   ]
  },
  {
   "cell_type": "code",
   "execution_count": 15,
   "id": "62ae56c5",
   "metadata": {},
   "outputs": [],
   "source": [
    "#também é necessário verificar se existe algum duplicada no nosso dataframe, visto que \n",
    "#os ride_id são a priori unicos"
   ]
  },
  {
   "cell_type": "code",
   "execution_count": 16,
   "id": "e04b5198",
   "metadata": {},
   "outputs": [
    {
     "data": {
      "text/html": [
       "<div>\n",
       "<style scoped>\n",
       "    .dataframe tbody tr th:only-of-type {\n",
       "        vertical-align: middle;\n",
       "    }\n",
       "\n",
       "    .dataframe tbody tr th {\n",
       "        vertical-align: top;\n",
       "    }\n",
       "\n",
       "    .dataframe thead th {\n",
       "        text-align: right;\n",
       "    }\n",
       "</style>\n",
       "<table border=\"1\" class=\"dataframe\">\n",
       "  <thead>\n",
       "    <tr style=\"text-align: right;\">\n",
       "      <th></th>\n",
       "      <th>ride_id</th>\n",
       "      <th>rideable_type</th>\n",
       "      <th>started_at</th>\n",
       "      <th>ended_at</th>\n",
       "      <th>start_station_name</th>\n",
       "      <th>start_station_id</th>\n",
       "      <th>end_station_name</th>\n",
       "      <th>end_station_id</th>\n",
       "      <th>start_lat</th>\n",
       "      <th>start_lng</th>\n",
       "      <th>end_lat</th>\n",
       "      <th>end_lng</th>\n",
       "      <th>member_casual</th>\n",
       "    </tr>\n",
       "  </thead>\n",
       "  <tbody>\n",
       "    <tr>\n",
       "      <th>9</th>\n",
       "      <td>B9F73448DFBE0D45</td>\n",
       "      <td>classic_bike</td>\n",
       "      <td>2021-01-24 19:15:38</td>\n",
       "      <td>2021-01-24 19:22:51</td>\n",
       "      <td>California Ave &amp; Cortez St</td>\n",
       "      <td>17660</td>\n",
       "      <td>Wood St &amp; Augusta Blvd</td>\n",
       "      <td>657</td>\n",
       "      <td>41.900363</td>\n",
       "      <td>-87.696704</td>\n",
       "      <td>41.899181</td>\n",
       "      <td>-87.672200</td>\n",
       "      <td>member</td>\n",
       "    </tr>\n",
       "    <tr>\n",
       "      <th>10</th>\n",
       "      <td>457C7F4B5D3DA135</td>\n",
       "      <td>electric_bike</td>\n",
       "      <td>2021-01-23 12:57:38</td>\n",
       "      <td>2021-01-23 13:02:10</td>\n",
       "      <td>California Ave &amp; Cortez St</td>\n",
       "      <td>17660</td>\n",
       "      <td>California Ave &amp; North Ave</td>\n",
       "      <td>13258</td>\n",
       "      <td>41.900406</td>\n",
       "      <td>-87.696733</td>\n",
       "      <td>41.910435</td>\n",
       "      <td>-87.696890</td>\n",
       "      <td>member</td>\n",
       "    </tr>\n",
       "    <tr>\n",
       "      <th>11</th>\n",
       "      <td>57C750326F9FDABE</td>\n",
       "      <td>electric_bike</td>\n",
       "      <td>2021-01-09 15:28:04</td>\n",
       "      <td>2021-01-09 15:37:51</td>\n",
       "      <td>California Ave &amp; Cortez St</td>\n",
       "      <td>17660</td>\n",
       "      <td>Wood St &amp; Augusta Blvd</td>\n",
       "      <td>657</td>\n",
       "      <td>41.900374</td>\n",
       "      <td>-87.696688</td>\n",
       "      <td>41.899180</td>\n",
       "      <td>-87.672178</td>\n",
       "      <td>casual</td>\n",
       "    </tr>\n",
       "    <tr>\n",
       "      <th>12</th>\n",
       "      <td>4D518C65E338D070</td>\n",
       "      <td>electric_bike</td>\n",
       "      <td>2021-01-09 15:28:57</td>\n",
       "      <td>2021-01-09 15:37:54</td>\n",
       "      <td>California Ave &amp; Cortez St</td>\n",
       "      <td>17660</td>\n",
       "      <td>Wood St &amp; Augusta Blvd</td>\n",
       "      <td>657</td>\n",
       "      <td>41.900379</td>\n",
       "      <td>-87.696716</td>\n",
       "      <td>41.899149</td>\n",
       "      <td>-87.672177</td>\n",
       "      <td>casual</td>\n",
       "    </tr>\n",
       "    <tr>\n",
       "      <th>13</th>\n",
       "      <td>9D08A3AFF410474D</td>\n",
       "      <td>classic_bike</td>\n",
       "      <td>2021-01-24 15:56:59</td>\n",
       "      <td>2021-01-24 16:07:08</td>\n",
       "      <td>California Ave &amp; Cortez St</td>\n",
       "      <td>17660</td>\n",
       "      <td>Wood St &amp; Augusta Blvd</td>\n",
       "      <td>657</td>\n",
       "      <td>41.900363</td>\n",
       "      <td>-87.696704</td>\n",
       "      <td>41.899181</td>\n",
       "      <td>-87.672200</td>\n",
       "      <td>casual</td>\n",
       "    </tr>\n",
       "    <tr>\n",
       "      <th>...</th>\n",
       "      <td>...</td>\n",
       "      <td>...</td>\n",
       "      <td>...</td>\n",
       "      <td>...</td>\n",
       "      <td>...</td>\n",
       "      <td>...</td>\n",
       "      <td>...</td>\n",
       "      <td>...</td>\n",
       "      <td>...</td>\n",
       "      <td>...</td>\n",
       "      <td>...</td>\n",
       "      <td>...</td>\n",
       "      <td>...</td>\n",
       "    </tr>\n",
       "    <tr>\n",
       "      <th>5595051</th>\n",
       "      <td>E06135F650553F21</td>\n",
       "      <td>electric_bike</td>\n",
       "      <td>2021-12-07 15:55:37</td>\n",
       "      <td>2021-12-07 16:00:17</td>\n",
       "      <td>Canal St &amp; Madison St</td>\n",
       "      <td>13341</td>\n",
       "      <td>Desplaines St &amp; Kinzie St</td>\n",
       "      <td>TA1306000003</td>\n",
       "      <td>41.881372</td>\n",
       "      <td>-87.640042</td>\n",
       "      <td>41.888456</td>\n",
       "      <td>-87.644336</td>\n",
       "      <td>casual</td>\n",
       "    </tr>\n",
       "    <tr>\n",
       "      <th>5595055</th>\n",
       "      <td>8DF0DBB049906332</td>\n",
       "      <td>electric_bike</td>\n",
       "      <td>2021-12-01 16:50:52</td>\n",
       "      <td>2021-12-01 16:55:18</td>\n",
       "      <td>Canal St &amp; Madison St</td>\n",
       "      <td>13341</td>\n",
       "      <td>Desplaines St &amp; Kinzie St</td>\n",
       "      <td>TA1306000003</td>\n",
       "      <td>41.881999</td>\n",
       "      <td>-87.639265</td>\n",
       "      <td>41.888415</td>\n",
       "      <td>-87.644342</td>\n",
       "      <td>casual</td>\n",
       "    </tr>\n",
       "    <tr>\n",
       "      <th>5595059</th>\n",
       "      <td>CF407BBC3B9FAD63</td>\n",
       "      <td>electric_bike</td>\n",
       "      <td>2021-12-06 19:37:50</td>\n",
       "      <td>2021-12-06 19:44:51</td>\n",
       "      <td>Canal St &amp; Madison St</td>\n",
       "      <td>13341</td>\n",
       "      <td>Kingsbury St &amp; Kinzie St</td>\n",
       "      <td>KA1503000043</td>\n",
       "      <td>41.882123</td>\n",
       "      <td>-87.640053</td>\n",
       "      <td>41.889106</td>\n",
       "      <td>-87.638862</td>\n",
       "      <td>member</td>\n",
       "    </tr>\n",
       "    <tr>\n",
       "      <th>5595060</th>\n",
       "      <td>60BB69EBF5440E92</td>\n",
       "      <td>electric_bike</td>\n",
       "      <td>2021-12-02 08:57:04</td>\n",
       "      <td>2021-12-02 09:05:21</td>\n",
       "      <td>Canal St &amp; Madison St</td>\n",
       "      <td>13341</td>\n",
       "      <td>Dearborn St &amp; Monroe St</td>\n",
       "      <td>TA1305000006</td>\n",
       "      <td>41.881956</td>\n",
       "      <td>-87.639955</td>\n",
       "      <td>41.880254</td>\n",
       "      <td>-87.629603</td>\n",
       "      <td>member</td>\n",
       "    </tr>\n",
       "    <tr>\n",
       "      <th>5595062</th>\n",
       "      <td>37AC57E34B2E7E97</td>\n",
       "      <td>classic_bike</td>\n",
       "      <td>2021-12-13 08:45:32</td>\n",
       "      <td>2021-12-13 08:49:09</td>\n",
       "      <td>Michigan Ave &amp; Jackson Blvd</td>\n",
       "      <td>TA1309000002</td>\n",
       "      <td>Dearborn St &amp; Monroe St</td>\n",
       "      <td>TA1305000006</td>\n",
       "      <td>41.877850</td>\n",
       "      <td>-87.624080</td>\n",
       "      <td>41.881320</td>\n",
       "      <td>-87.629521</td>\n",
       "      <td>member</td>\n",
       "    </tr>\n",
       "  </tbody>\n",
       "</table>\n",
       "<p>4855893 rows × 13 columns</p>\n",
       "</div>"
      ],
      "text/plain": [
       "                  ride_id  rideable_type          started_at  \\\n",
       "9        B9F73448DFBE0D45   classic_bike 2021-01-24 19:15:38   \n",
       "10       457C7F4B5D3DA135  electric_bike 2021-01-23 12:57:38   \n",
       "11       57C750326F9FDABE  electric_bike 2021-01-09 15:28:04   \n",
       "12       4D518C65E338D070  electric_bike 2021-01-09 15:28:57   \n",
       "13       9D08A3AFF410474D   classic_bike 2021-01-24 15:56:59   \n",
       "...                   ...            ...                 ...   \n",
       "5595051  E06135F650553F21  electric_bike 2021-12-07 15:55:37   \n",
       "5595055  8DF0DBB049906332  electric_bike 2021-12-01 16:50:52   \n",
       "5595059  CF407BBC3B9FAD63  electric_bike 2021-12-06 19:37:50   \n",
       "5595060  60BB69EBF5440E92  electric_bike 2021-12-02 08:57:04   \n",
       "5595062  37AC57E34B2E7E97   classic_bike 2021-12-13 08:45:32   \n",
       "\n",
       "                   ended_at           start_station_name start_station_id  \\\n",
       "9       2021-01-24 19:22:51   California Ave & Cortez St            17660   \n",
       "10      2021-01-23 13:02:10   California Ave & Cortez St            17660   \n",
       "11      2021-01-09 15:37:51   California Ave & Cortez St            17660   \n",
       "12      2021-01-09 15:37:54   California Ave & Cortez St            17660   \n",
       "13      2021-01-24 16:07:08   California Ave & Cortez St            17660   \n",
       "...                     ...                          ...              ...   \n",
       "5595051 2021-12-07 16:00:17        Canal St & Madison St            13341   \n",
       "5595055 2021-12-01 16:55:18        Canal St & Madison St            13341   \n",
       "5595059 2021-12-06 19:44:51        Canal St & Madison St            13341   \n",
       "5595060 2021-12-02 09:05:21        Canal St & Madison St            13341   \n",
       "5595062 2021-12-13 08:49:09  Michigan Ave & Jackson Blvd     TA1309000002   \n",
       "\n",
       "                   end_station_name end_station_id  start_lat  start_lng  \\\n",
       "9            Wood St & Augusta Blvd            657  41.900363 -87.696704   \n",
       "10       California Ave & North Ave          13258  41.900406 -87.696733   \n",
       "11           Wood St & Augusta Blvd            657  41.900374 -87.696688   \n",
       "12           Wood St & Augusta Blvd            657  41.900379 -87.696716   \n",
       "13           Wood St & Augusta Blvd            657  41.900363 -87.696704   \n",
       "...                             ...            ...        ...        ...   \n",
       "5595051   Desplaines St & Kinzie St   TA1306000003  41.881372 -87.640042   \n",
       "5595055   Desplaines St & Kinzie St   TA1306000003  41.881999 -87.639265   \n",
       "5595059    Kingsbury St & Kinzie St   KA1503000043  41.882123 -87.640053   \n",
       "5595060     Dearborn St & Monroe St   TA1305000006  41.881956 -87.639955   \n",
       "5595062     Dearborn St & Monroe St   TA1305000006  41.877850 -87.624080   \n",
       "\n",
       "           end_lat    end_lng member_casual  \n",
       "9        41.899181 -87.672200        member  \n",
       "10       41.910435 -87.696890        member  \n",
       "11       41.899180 -87.672178        casual  \n",
       "12       41.899149 -87.672177        casual  \n",
       "13       41.899181 -87.672200        casual  \n",
       "...            ...        ...           ...  \n",
       "5595051  41.888456 -87.644336        casual  \n",
       "5595055  41.888415 -87.644342        casual  \n",
       "5595059  41.889106 -87.638862        member  \n",
       "5595060  41.880254 -87.629603        member  \n",
       "5595062  41.881320 -87.629521        member  \n",
       "\n",
       "[4855893 rows x 13 columns]"
      ]
     },
     "execution_count": 16,
     "metadata": {},
     "output_type": "execute_result"
    }
   ],
   "source": [
    "df1.drop_duplicates(subset=['ride_id'])"
   ]
  },
  {
   "cell_type": "code",
   "execution_count": 17,
   "id": "95c681a5",
   "metadata": {},
   "outputs": [],
   "source": [
    "#o número de linhas não mudaram, então não temos duplicatas"
   ]
  },
  {
   "cell_type": "code",
   "execution_count": 18,
   "id": "f13519ed",
   "metadata": {},
   "outputs": [
    {
     "name": "stderr",
     "output_type": "stream",
     "text": [
      "C:\\Users\\alanf\\AppData\\Local\\Temp/ipykernel_2632/839785015.py:2: SettingWithCopyWarning: \n",
      "A value is trying to be set on a copy of a slice from a DataFrame.\n",
      "Try using .loc[row_indexer,col_indexer] = value instead\n",
      "\n",
      "See the caveats in the documentation: https://pandas.pydata.org/pandas-docs/stable/user_guide/indexing.html#returning-a-view-versus-a-copy\n",
      "  df1['initial_time'] = df1['started_at'].dt.time\n",
      "C:\\Users\\alanf\\AppData\\Local\\Temp/ipykernel_2632/839785015.py:3: SettingWithCopyWarning: \n",
      "A value is trying to be set on a copy of a slice from a DataFrame.\n",
      "Try using .loc[row_indexer,col_indexer] = value instead\n",
      "\n",
      "See the caveats in the documentation: https://pandas.pydata.org/pandas-docs/stable/user_guide/indexing.html#returning-a-view-versus-a-copy\n",
      "  df1['final_time'] = df1['ended_at'].dt.time\n"
     ]
    }
   ],
   "source": [
    "#criando novas colunas para relacionar à duração da viagem\n",
    "df1['initial_time'] = df1['started_at'].dt.time\n",
    "df1['final_time'] = df1['ended_at'].dt.time"
   ]
  },
  {
   "cell_type": "code",
   "execution_count": 19,
   "id": "0b307921",
   "metadata": {},
   "outputs": [
    {
     "name": "stderr",
     "output_type": "stream",
     "text": [
      "C:\\Users\\alanf\\AppData\\Local\\Temp/ipykernel_2632/4266771088.py:4: SettingWithCopyWarning: \n",
      "A value is trying to be set on a copy of a slice from a DataFrame.\n",
      "Try using .loc[row_indexer,col_indexer] = value instead\n",
      "\n",
      "See the caveats in the documentation: https://pandas.pydata.org/pandas-docs/stable/user_guide/indexing.html#returning-a-view-versus-a-copy\n",
      "  df1['duration'] = td.dt.seconds/60 #converteu tudo pra segundo depois pra minutos\n"
     ]
    }
   ],
   "source": [
    "#calculando a duração da viagem em uma nova coluna\n",
    "\n",
    "td = df1['ended_at'] - df1['started_at']\n",
    "df1['duration'] = td.dt.seconds/60 #converteu tudo pra segundo depois pra minutos\n"
   ]
  },
  {
   "cell_type": "code",
   "execution_count": 20,
   "id": "8c69b2e8",
   "metadata": {},
   "outputs": [
    {
     "name": "stderr",
     "output_type": "stream",
     "text": [
      "C:\\Users\\alanf\\AppData\\Local\\Temp/ipykernel_2632/195087175.py:3: SettingWithCopyWarning: \n",
      "A value is trying to be set on a copy of a slice from a DataFrame.\n",
      "Try using .loc[row_indexer,col_indexer] = value instead\n",
      "\n",
      "See the caveats in the documentation: https://pandas.pydata.org/pandas-docs/stable/user_guide/indexing.html#returning-a-view-versus-a-copy\n",
      "  df1['day_of_week'] = df1['started_at'].dt.dayofweek\n"
     ]
    }
   ],
   "source": [
    "#criando uma nova coluna relacionada ao dia em que a viagem foi feita\n",
    "#0 = segunda, 6=domingo\n",
    "df1['day_of_week'] = df1['started_at'].dt.dayofweek\n"
   ]
  },
  {
   "cell_type": "code",
   "execution_count": 21,
   "id": "aa44afe1",
   "metadata": {},
   "outputs": [
    {
     "name": "stderr",
     "output_type": "stream",
     "text": [
      "C:\\Users\\alanf\\AppData\\Local\\Temp/ipykernel_2632/1438021033.py:1: SettingWithCopyWarning: \n",
      "A value is trying to be set on a copy of a slice from a DataFrame.\n",
      "Try using .loc[row_indexer,col_indexer] = value instead\n",
      "\n",
      "See the caveats in the documentation: https://pandas.pydata.org/pandas-docs/stable/user_guide/indexing.html#returning-a-view-versus-a-copy\n",
      "  df1['initial_hour'] = df1['started_at'].dt.hour\n"
     ]
    }
   ],
   "source": [
    "df1['initial_hour'] = df1['started_at'].dt.hour"
   ]
  },
  {
   "cell_type": "code",
   "execution_count": 22,
   "id": "bca4c506",
   "metadata": {},
   "outputs": [
    {
     "data": {
      "text/html": [
       "<div>\n",
       "<style scoped>\n",
       "    .dataframe tbody tr th:only-of-type {\n",
       "        vertical-align: middle;\n",
       "    }\n",
       "\n",
       "    .dataframe tbody tr th {\n",
       "        vertical-align: top;\n",
       "    }\n",
       "\n",
       "    .dataframe thead th {\n",
       "        text-align: right;\n",
       "    }\n",
       "</style>\n",
       "<table border=\"1\" class=\"dataframe\">\n",
       "  <thead>\n",
       "    <tr style=\"text-align: right;\">\n",
       "      <th></th>\n",
       "      <th>ride_id</th>\n",
       "      <th>rideable_type</th>\n",
       "      <th>started_at</th>\n",
       "      <th>ended_at</th>\n",
       "      <th>start_station_name</th>\n",
       "      <th>start_station_id</th>\n",
       "      <th>end_station_name</th>\n",
       "      <th>end_station_id</th>\n",
       "      <th>start_lat</th>\n",
       "      <th>start_lng</th>\n",
       "      <th>end_lat</th>\n",
       "      <th>end_lng</th>\n",
       "      <th>member_casual</th>\n",
       "      <th>initial_time</th>\n",
       "      <th>final_time</th>\n",
       "      <th>duration</th>\n",
       "      <th>day_of_week</th>\n",
       "      <th>initial_hour</th>\n",
       "    </tr>\n",
       "  </thead>\n",
       "  <tbody>\n",
       "    <tr>\n",
       "      <th>9</th>\n",
       "      <td>B9F73448DFBE0D45</td>\n",
       "      <td>classic_bike</td>\n",
       "      <td>2021-01-24 19:15:38</td>\n",
       "      <td>2021-01-24 19:22:51</td>\n",
       "      <td>California Ave &amp; Cortez St</td>\n",
       "      <td>17660</td>\n",
       "      <td>Wood St &amp; Augusta Blvd</td>\n",
       "      <td>657</td>\n",
       "      <td>41.900363</td>\n",
       "      <td>-87.696704</td>\n",
       "      <td>41.899181</td>\n",
       "      <td>-87.672200</td>\n",
       "      <td>member</td>\n",
       "      <td>19:15:38</td>\n",
       "      <td>19:22:51</td>\n",
       "      <td>7.216667</td>\n",
       "      <td>6</td>\n",
       "      <td>19</td>\n",
       "    </tr>\n",
       "    <tr>\n",
       "      <th>10</th>\n",
       "      <td>457C7F4B5D3DA135</td>\n",
       "      <td>electric_bike</td>\n",
       "      <td>2021-01-23 12:57:38</td>\n",
       "      <td>2021-01-23 13:02:10</td>\n",
       "      <td>California Ave &amp; Cortez St</td>\n",
       "      <td>17660</td>\n",
       "      <td>California Ave &amp; North Ave</td>\n",
       "      <td>13258</td>\n",
       "      <td>41.900406</td>\n",
       "      <td>-87.696733</td>\n",
       "      <td>41.910435</td>\n",
       "      <td>-87.696890</td>\n",
       "      <td>member</td>\n",
       "      <td>12:57:38</td>\n",
       "      <td>13:02:10</td>\n",
       "      <td>4.533333</td>\n",
       "      <td>5</td>\n",
       "      <td>12</td>\n",
       "    </tr>\n",
       "    <tr>\n",
       "      <th>11</th>\n",
       "      <td>57C750326F9FDABE</td>\n",
       "      <td>electric_bike</td>\n",
       "      <td>2021-01-09 15:28:04</td>\n",
       "      <td>2021-01-09 15:37:51</td>\n",
       "      <td>California Ave &amp; Cortez St</td>\n",
       "      <td>17660</td>\n",
       "      <td>Wood St &amp; Augusta Blvd</td>\n",
       "      <td>657</td>\n",
       "      <td>41.900374</td>\n",
       "      <td>-87.696688</td>\n",
       "      <td>41.899180</td>\n",
       "      <td>-87.672178</td>\n",
       "      <td>casual</td>\n",
       "      <td>15:28:04</td>\n",
       "      <td>15:37:51</td>\n",
       "      <td>9.783333</td>\n",
       "      <td>5</td>\n",
       "      <td>15</td>\n",
       "    </tr>\n",
       "    <tr>\n",
       "      <th>12</th>\n",
       "      <td>4D518C65E338D070</td>\n",
       "      <td>electric_bike</td>\n",
       "      <td>2021-01-09 15:28:57</td>\n",
       "      <td>2021-01-09 15:37:54</td>\n",
       "      <td>California Ave &amp; Cortez St</td>\n",
       "      <td>17660</td>\n",
       "      <td>Wood St &amp; Augusta Blvd</td>\n",
       "      <td>657</td>\n",
       "      <td>41.900379</td>\n",
       "      <td>-87.696716</td>\n",
       "      <td>41.899149</td>\n",
       "      <td>-87.672177</td>\n",
       "      <td>casual</td>\n",
       "      <td>15:28:57</td>\n",
       "      <td>15:37:54</td>\n",
       "      <td>8.950000</td>\n",
       "      <td>5</td>\n",
       "      <td>15</td>\n",
       "    </tr>\n",
       "    <tr>\n",
       "      <th>13</th>\n",
       "      <td>9D08A3AFF410474D</td>\n",
       "      <td>classic_bike</td>\n",
       "      <td>2021-01-24 15:56:59</td>\n",
       "      <td>2021-01-24 16:07:08</td>\n",
       "      <td>California Ave &amp; Cortez St</td>\n",
       "      <td>17660</td>\n",
       "      <td>Wood St &amp; Augusta Blvd</td>\n",
       "      <td>657</td>\n",
       "      <td>41.900363</td>\n",
       "      <td>-87.696704</td>\n",
       "      <td>41.899181</td>\n",
       "      <td>-87.672200</td>\n",
       "      <td>casual</td>\n",
       "      <td>15:56:59</td>\n",
       "      <td>16:07:08</td>\n",
       "      <td>10.150000</td>\n",
       "      <td>6</td>\n",
       "      <td>15</td>\n",
       "    </tr>\n",
       "    <tr>\n",
       "      <th>...</th>\n",
       "      <td>...</td>\n",
       "      <td>...</td>\n",
       "      <td>...</td>\n",
       "      <td>...</td>\n",
       "      <td>...</td>\n",
       "      <td>...</td>\n",
       "      <td>...</td>\n",
       "      <td>...</td>\n",
       "      <td>...</td>\n",
       "      <td>...</td>\n",
       "      <td>...</td>\n",
       "      <td>...</td>\n",
       "      <td>...</td>\n",
       "      <td>...</td>\n",
       "      <td>...</td>\n",
       "      <td>...</td>\n",
       "      <td>...</td>\n",
       "      <td>...</td>\n",
       "    </tr>\n",
       "    <tr>\n",
       "      <th>5595051</th>\n",
       "      <td>E06135F650553F21</td>\n",
       "      <td>electric_bike</td>\n",
       "      <td>2021-12-07 15:55:37</td>\n",
       "      <td>2021-12-07 16:00:17</td>\n",
       "      <td>Canal St &amp; Madison St</td>\n",
       "      <td>13341</td>\n",
       "      <td>Desplaines St &amp; Kinzie St</td>\n",
       "      <td>TA1306000003</td>\n",
       "      <td>41.881372</td>\n",
       "      <td>-87.640042</td>\n",
       "      <td>41.888456</td>\n",
       "      <td>-87.644336</td>\n",
       "      <td>casual</td>\n",
       "      <td>15:55:37</td>\n",
       "      <td>16:00:17</td>\n",
       "      <td>4.666667</td>\n",
       "      <td>1</td>\n",
       "      <td>15</td>\n",
       "    </tr>\n",
       "    <tr>\n",
       "      <th>5595055</th>\n",
       "      <td>8DF0DBB049906332</td>\n",
       "      <td>electric_bike</td>\n",
       "      <td>2021-12-01 16:50:52</td>\n",
       "      <td>2021-12-01 16:55:18</td>\n",
       "      <td>Canal St &amp; Madison St</td>\n",
       "      <td>13341</td>\n",
       "      <td>Desplaines St &amp; Kinzie St</td>\n",
       "      <td>TA1306000003</td>\n",
       "      <td>41.881999</td>\n",
       "      <td>-87.639265</td>\n",
       "      <td>41.888415</td>\n",
       "      <td>-87.644342</td>\n",
       "      <td>casual</td>\n",
       "      <td>16:50:52</td>\n",
       "      <td>16:55:18</td>\n",
       "      <td>4.433333</td>\n",
       "      <td>2</td>\n",
       "      <td>16</td>\n",
       "    </tr>\n",
       "    <tr>\n",
       "      <th>5595059</th>\n",
       "      <td>CF407BBC3B9FAD63</td>\n",
       "      <td>electric_bike</td>\n",
       "      <td>2021-12-06 19:37:50</td>\n",
       "      <td>2021-12-06 19:44:51</td>\n",
       "      <td>Canal St &amp; Madison St</td>\n",
       "      <td>13341</td>\n",
       "      <td>Kingsbury St &amp; Kinzie St</td>\n",
       "      <td>KA1503000043</td>\n",
       "      <td>41.882123</td>\n",
       "      <td>-87.640053</td>\n",
       "      <td>41.889106</td>\n",
       "      <td>-87.638862</td>\n",
       "      <td>member</td>\n",
       "      <td>19:37:50</td>\n",
       "      <td>19:44:51</td>\n",
       "      <td>7.016667</td>\n",
       "      <td>0</td>\n",
       "      <td>19</td>\n",
       "    </tr>\n",
       "    <tr>\n",
       "      <th>5595060</th>\n",
       "      <td>60BB69EBF5440E92</td>\n",
       "      <td>electric_bike</td>\n",
       "      <td>2021-12-02 08:57:04</td>\n",
       "      <td>2021-12-02 09:05:21</td>\n",
       "      <td>Canal St &amp; Madison St</td>\n",
       "      <td>13341</td>\n",
       "      <td>Dearborn St &amp; Monroe St</td>\n",
       "      <td>TA1305000006</td>\n",
       "      <td>41.881956</td>\n",
       "      <td>-87.639955</td>\n",
       "      <td>41.880254</td>\n",
       "      <td>-87.629603</td>\n",
       "      <td>member</td>\n",
       "      <td>08:57:04</td>\n",
       "      <td>09:05:21</td>\n",
       "      <td>8.283333</td>\n",
       "      <td>3</td>\n",
       "      <td>8</td>\n",
       "    </tr>\n",
       "    <tr>\n",
       "      <th>5595062</th>\n",
       "      <td>37AC57E34B2E7E97</td>\n",
       "      <td>classic_bike</td>\n",
       "      <td>2021-12-13 08:45:32</td>\n",
       "      <td>2021-12-13 08:49:09</td>\n",
       "      <td>Michigan Ave &amp; Jackson Blvd</td>\n",
       "      <td>TA1309000002</td>\n",
       "      <td>Dearborn St &amp; Monroe St</td>\n",
       "      <td>TA1305000006</td>\n",
       "      <td>41.877850</td>\n",
       "      <td>-87.624080</td>\n",
       "      <td>41.881320</td>\n",
       "      <td>-87.629521</td>\n",
       "      <td>member</td>\n",
       "      <td>08:45:32</td>\n",
       "      <td>08:49:09</td>\n",
       "      <td>3.616667</td>\n",
       "      <td>0</td>\n",
       "      <td>8</td>\n",
       "    </tr>\n",
       "  </tbody>\n",
       "</table>\n",
       "<p>4855893 rows × 18 columns</p>\n",
       "</div>"
      ],
      "text/plain": [
       "                  ride_id  rideable_type          started_at  \\\n",
       "9        B9F73448DFBE0D45   classic_bike 2021-01-24 19:15:38   \n",
       "10       457C7F4B5D3DA135  electric_bike 2021-01-23 12:57:38   \n",
       "11       57C750326F9FDABE  electric_bike 2021-01-09 15:28:04   \n",
       "12       4D518C65E338D070  electric_bike 2021-01-09 15:28:57   \n",
       "13       9D08A3AFF410474D   classic_bike 2021-01-24 15:56:59   \n",
       "...                   ...            ...                 ...   \n",
       "5595051  E06135F650553F21  electric_bike 2021-12-07 15:55:37   \n",
       "5595055  8DF0DBB049906332  electric_bike 2021-12-01 16:50:52   \n",
       "5595059  CF407BBC3B9FAD63  electric_bike 2021-12-06 19:37:50   \n",
       "5595060  60BB69EBF5440E92  electric_bike 2021-12-02 08:57:04   \n",
       "5595062  37AC57E34B2E7E97   classic_bike 2021-12-13 08:45:32   \n",
       "\n",
       "                   ended_at           start_station_name start_station_id  \\\n",
       "9       2021-01-24 19:22:51   California Ave & Cortez St            17660   \n",
       "10      2021-01-23 13:02:10   California Ave & Cortez St            17660   \n",
       "11      2021-01-09 15:37:51   California Ave & Cortez St            17660   \n",
       "12      2021-01-09 15:37:54   California Ave & Cortez St            17660   \n",
       "13      2021-01-24 16:07:08   California Ave & Cortez St            17660   \n",
       "...                     ...                          ...              ...   \n",
       "5595051 2021-12-07 16:00:17        Canal St & Madison St            13341   \n",
       "5595055 2021-12-01 16:55:18        Canal St & Madison St            13341   \n",
       "5595059 2021-12-06 19:44:51        Canal St & Madison St            13341   \n",
       "5595060 2021-12-02 09:05:21        Canal St & Madison St            13341   \n",
       "5595062 2021-12-13 08:49:09  Michigan Ave & Jackson Blvd     TA1309000002   \n",
       "\n",
       "                   end_station_name end_station_id  start_lat  start_lng  \\\n",
       "9            Wood St & Augusta Blvd            657  41.900363 -87.696704   \n",
       "10       California Ave & North Ave          13258  41.900406 -87.696733   \n",
       "11           Wood St & Augusta Blvd            657  41.900374 -87.696688   \n",
       "12           Wood St & Augusta Blvd            657  41.900379 -87.696716   \n",
       "13           Wood St & Augusta Blvd            657  41.900363 -87.696704   \n",
       "...                             ...            ...        ...        ...   \n",
       "5595051   Desplaines St & Kinzie St   TA1306000003  41.881372 -87.640042   \n",
       "5595055   Desplaines St & Kinzie St   TA1306000003  41.881999 -87.639265   \n",
       "5595059    Kingsbury St & Kinzie St   KA1503000043  41.882123 -87.640053   \n",
       "5595060     Dearborn St & Monroe St   TA1305000006  41.881956 -87.639955   \n",
       "5595062     Dearborn St & Monroe St   TA1305000006  41.877850 -87.624080   \n",
       "\n",
       "           end_lat    end_lng member_casual initial_time final_time  \\\n",
       "9        41.899181 -87.672200        member     19:15:38   19:22:51   \n",
       "10       41.910435 -87.696890        member     12:57:38   13:02:10   \n",
       "11       41.899180 -87.672178        casual     15:28:04   15:37:51   \n",
       "12       41.899149 -87.672177        casual     15:28:57   15:37:54   \n",
       "13       41.899181 -87.672200        casual     15:56:59   16:07:08   \n",
       "...            ...        ...           ...          ...        ...   \n",
       "5595051  41.888456 -87.644336        casual     15:55:37   16:00:17   \n",
       "5595055  41.888415 -87.644342        casual     16:50:52   16:55:18   \n",
       "5595059  41.889106 -87.638862        member     19:37:50   19:44:51   \n",
       "5595060  41.880254 -87.629603        member     08:57:04   09:05:21   \n",
       "5595062  41.881320 -87.629521        member     08:45:32   08:49:09   \n",
       "\n",
       "          duration  day_of_week  initial_hour  \n",
       "9         7.216667            6            19  \n",
       "10        4.533333            5            12  \n",
       "11        9.783333            5            15  \n",
       "12        8.950000            5            15  \n",
       "13       10.150000            6            15  \n",
       "...            ...          ...           ...  \n",
       "5595051   4.666667            1            15  \n",
       "5595055   4.433333            2            16  \n",
       "5595059   7.016667            0            19  \n",
       "5595060   8.283333            3             8  \n",
       "5595062   3.616667            0             8  \n",
       "\n",
       "[4855893 rows x 18 columns]"
      ]
     },
     "execution_count": 22,
     "metadata": {},
     "output_type": "execute_result"
    }
   ],
   "source": [
    "df1"
   ]
  },
  {
   "cell_type": "markdown",
   "id": "c4d3bbfc",
   "metadata": {},
   "source": [
    "# Análise"
   ]
  },
  {
   "cell_type": "code",
   "execution_count": 23,
   "id": "17526594",
   "metadata": {},
   "outputs": [
    {
     "data": {
      "text/plain": [
       "'\\nAgora que os dados estão limpos, organizados e inserimos novas colunas com informações relevantes sobre\\nas viagens de bicicleta, podemos começar a etapa de análise.\\n'"
      ]
     },
     "execution_count": 23,
     "metadata": {},
     "output_type": "execute_result"
    }
   ],
   "source": [
    "'''\n",
    "Agora que os dados estão limpos, organizados e inserimos novas colunas com informações relevantes sobre\n",
    "as viagens de bicicleta, podemos começar a etapa de análise.\n",
    "'''"
   ]
  },
  {
   "cell_type": "code",
   "execution_count": 24,
   "id": "30642828",
   "metadata": {},
   "outputs": [
    {
     "data": {
      "text/plain": [
       "count    4.855893e+06\n",
       "mean     1.991021e+01\n",
       "std      3.815051e+01\n",
       "min      0.000000e+00\n",
       "25%      6.950000e+00\n",
       "50%      1.221667e+01\n",
       "75%      2.201667e+01\n",
       "max      1.439983e+03\n",
       "Name: duration, dtype: float64"
      ]
     },
     "execution_count": 24,
     "metadata": {},
     "output_type": "execute_result"
    }
   ],
   "source": [
    "# Estatistica acerca da duração de viagem\n",
    "df1['duration'].describe()"
   ]
  },
  {
   "cell_type": "code",
   "execution_count": 25,
   "id": "5bd027e8",
   "metadata": {},
   "outputs": [
    {
     "data": {
      "text/plain": [
       "0    5\n",
       "dtype: int64"
      ]
     },
     "execution_count": 25,
     "metadata": {},
     "output_type": "execute_result"
    }
   ],
   "source": [
    "# Qual o dia da semana que as pessoas mais usam bicicleta? \n",
    "df1['day_of_week'].mode()\n",
    "# Sábado é o dia que mais usam bicicleta"
   ]
  },
  {
   "cell_type": "code",
   "execution_count": 57,
   "id": "b1b627f4",
   "metadata": {},
   "outputs": [
    {
     "data": {
      "text/plain": [
       "(-1.1120004713524507,\n",
       " 1.127295889962423,\n",
       " -1.1097119462728955,\n",
       " 1.1004625198663247)"
      ]
     },
     "execution_count": 57,
     "metadata": {},
     "output_type": "execute_result"
    },
    {
     "data": {
      "image/png": "[encoded data removed]",
      "text/plain": [
       "<Figure size 432x288 with 1 Axes>"
      ]
     },
     "metadata": {},
     "output_type": "display_data"
    }
   ],
   "source": [
    "df1['member_casual'].value_counts().plot(kind='pie',autopct='%1.1f%%',startangle=90,y=None)\n",
    "plt.title('Percentage of users types ')\n",
    "plt.axis('equal')"
   ]
  },
  {
   "cell_type": "code",
   "execution_count": 27,
   "id": "d2d95821",
   "metadata": {},
   "outputs": [
    {
     "data": {
      "text/plain": [
       "member_casual\n",
       "casual    28.134210\n",
       "member    13.299437\n",
       "Name: duration, dtype: float64"
      ]
     },
     "execution_count": 27,
     "metadata": {},
     "output_type": "execute_result"
    }
   ],
   "source": [
    "df1.groupby('member_casual')['duration'].mean()"
   ]
  },
  {
   "cell_type": "code",
   "execution_count": 46,
   "id": "251b5564",
   "metadata": {},
   "outputs": [
    {
     "data": {
      "text/plain": [
       "[<matplotlib.axis.XTick at 0x143e837d520>,\n",
       " <matplotlib.axis.XTick at 0x143e837d040>,\n",
       " <matplotlib.axis.XTick at 0x143e832ec40>,\n",
       " <matplotlib.axis.XTick at 0x143e833e460>,\n",
       " <matplotlib.axis.XTick at 0x143e833ebb0>,\n",
       " <matplotlib.axis.XTick at 0x143e8344340>,\n",
       " <matplotlib.axis.XTick at 0x143e8344a90>,\n",
       " <matplotlib.axis.XTick at 0x143e83cb280>,\n",
       " <matplotlib.axis.XTick at 0x143e834a550>,\n",
       " <matplotlib.axis.XTick at 0x143e83c3580>,\n",
       " <matplotlib.axis.XTick at 0x143e833ed60>,\n",
       " <matplotlib.axis.XTick at 0x143e834a850>,\n",
       " <matplotlib.axis.XTick at 0x143e8352280>,\n",
       " <matplotlib.axis.XTick at 0x143e83529d0>,\n",
       " <matplotlib.axis.XTick at 0x143e8356160>,\n",
       " <matplotlib.axis.XTick at 0x143e83568b0>,\n",
       " <matplotlib.axis.XTick at 0x143e8352a30>,\n",
       " <matplotlib.axis.XTick at 0x143e833e760>,\n",
       " <matplotlib.axis.XTick at 0x143e8356100>,\n",
       " <matplotlib.axis.XTick at 0x143e83e1550>,\n",
       " <matplotlib.axis.XTick at 0x143e83e1ca0>,\n",
       " <matplotlib.axis.XTick at 0x143e83e5430>,\n",
       " <matplotlib.axis.XTick at 0x143e83e5b80>,\n",
       " <matplotlib.axis.XTick at 0x143e83e1880>]"
      ]
     },
     "execution_count": 46,
     "metadata": {},
     "output_type": "execute_result"
    },
    {
     "data": {
      "image/png": "[encoded data removed]",
      "text/plain": [
       "<Figure size 1008x432 with 1 Axes>"
      ]
     },
     "metadata": {
      "needs_background": "light"
     },
     "output_type": "display_data"
    }
   ],
   "source": [
    "df1.groupby('initial_hour')['initial_hour'].count().plot(kind='line',figsize=(14,6),label='general',legend='general').set_xticks(range(0,24,1))\n",
    "df1[df1['member_casual'] == 'member'].groupby('initial_hour')['initial_hour'].count().plot(kind='line',figsize=(14,6),color='red',label='member',legend='member').set_xticks(range(0,24,1))\n",
    "df1[df1['member_casual'] == 'casual'].groupby('initial_hour')['initial_hour'].count().plot(kind='line',figsize=(14,6),color='green',label='casual',legend='casual').set_xticks(range(0,24,1))"
   ]
  },
  {
   "cell_type": "code",
   "execution_count": 45,
   "id": "53f0eb8f",
   "metadata": {},
   "outputs": [
    {
     "data": {
      "text/plain": [
       "[<matplotlib.axis.XTick at 0x143e83015b0>,\n",
       " <matplotlib.axis.XTick at 0x143e8301940>,\n",
       " <matplotlib.axis.XTick at 0x143e8313d00>,\n",
       " <matplotlib.axis.XTick at 0x143e83af5e0>,\n",
       " <matplotlib.axis.XTick at 0x143e83afd30>,\n",
       " <matplotlib.axis.XTick at 0x143e83b74c0>,\n",
       " <matplotlib.axis.XTick at 0x143e83b7c10>]"
      ]
     },
     "execution_count": 45,
     "metadata": {},
     "output_type": "execute_result"
    },
    {
     "data": {
      "image/png": "[encoded data removed]",
      "text/plain": [
       "<Figure size 1008x432 with 1 Axes>"
      ]
     },
     "metadata": {
      "needs_background": "light"
     },
     "output_type": "display_data"
    }
   ],
   "source": [
    "df1.groupby('day_of_week')['day_of_week'].count().plot(kind='line',figsize=(14,6),label='general',legend='general').set_xticks(range(0,7,1))\n",
    "df1[df1['member_casual'] == 'member'].groupby('day_of_week')['day_of_week'].count().plot(kind='line',figsize=(14,6),color='red',label='member',legend='member').set_xticks(range(0,7,1))\n",
    "df1[df1['member_casual'] == 'casual'].groupby('day_of_week')['day_of_week'].count().plot(kind='line',figsize=(14,6),color='green',label='casual',legend='casual').set_xticks(range(0,7,1))"
   ]
  },
  {
   "cell_type": "code",
   "execution_count": null,
   "id": "ea04668b",
   "metadata": {},
   "outputs": [],
   "source": []
  }
 ],
 "metadata": {
  "kernelspec": {
   "display_name": "Python 3 (ipykernel)",
   "language": "python",
   "name": "python3"
  },
  "language_info": {
   "codemirror_mode": {
    "name": "ipython",
    "version": 3
   },
   "file_extension": ".py",
   "mimetype": "text/x-python",
   "name": "python",
   "nbconvert_exporter": "python",
   "pygments_lexer": "ipython3",
   "version": "3.9.7"
  }
 },
 "nbformat": 4,
 "nbformat_minor": 5
}
